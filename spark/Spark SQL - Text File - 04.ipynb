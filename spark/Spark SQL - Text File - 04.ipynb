{
 "cells": [
  {
   "cell_type": "code",
   "execution_count": 2,
   "metadata": {},
   "outputs": [
    {
     "data": {
      "text/plain": [
       "spark = org.apache.spark.sql.SparkSession@43ec29d5\n"
      ]
     },
     "metadata": {},
     "output_type": "display_data"
    },
    {
     "data": {
      "text/html": [
       "<ul>\n",
       "<li><a href=\"Some(http://192.168.0.124:4040)\" target=\"new_tab\">Spark UI: local-1536606442904</a></li>\n",
       "</ul>"
      ],
      "text/plain": [
       "Spark local-1536606442904: Some(http://192.168.0.124:4040)"
      ]
     },
     "execution_count": 2,
     "metadata": {},
     "output_type": "execute_result"
    }
   ],
   "source": [
    "val spark = SparkSession.builder.appName(\"Book\").getOrCreate()"
   ]
  },
  {
   "cell_type": "code",
   "execution_count": 3,
   "metadata": {},
   "outputs": [
    {
     "data": {
      "text/plain": [
       "dataFrame = [value: string]\n"
      ]
     },
     "metadata": {},
     "output_type": "display_data"
    },
    {
     "data": {
      "text/plain": [
       "[value: string]"
      ]
     },
     "execution_count": 3,
     "metadata": {},
     "output_type": "execute_result"
    }
   ],
   "source": [
    "val dataFrame = spark.read.option(\"inferSchema\", \"true\").textFile(\"files/book.txt\").flatMap(_.split(\"\\\\W+\"))"
   ]
  },
  {
   "cell_type": "code",
   "execution_count": 4,
   "metadata": {},
   "outputs": [
    {
     "data": {
      "text/plain": [
       "defined class Word\n",
       "dataSet = [value: string]\n"
      ]
     },
     "metadata": {},
     "output_type": "display_data"
    },
    {
     "data": {
      "text/plain": [
       "[value: string]"
      ]
     },
     "execution_count": 4,
     "metadata": {},
     "output_type": "execute_result"
    }
   ],
   "source": [
    "import spark.implicits._\n",
    "\n",
    "case class Word(value: String)\n",
    "\n",
    "val dataSet = dataFrame.as[Word].cache()"
   ]
  },
  {
   "cell_type": "code",
   "execution_count": 5,
   "metadata": {},
   "outputs": [
    {
     "name": "stdout",
     "output_type": "stream",
     "text": [
      "+--------+-----+\n",
      "|   value|count|\n",
      "+--------+-----+\n",
      "|      to| 1816|\n",
      "|     you| 1690|\n",
      "|    your| 1340|\n",
      "|     the| 1178|\n",
      "|       a| 1149|\n",
      "|      of|  951|\n",
      "|     and|  910|\n",
      "|    that|  705|\n",
      "|      in|  574|\n",
      "|      it|  548|\n",
      "|      is|  542|\n",
      "|     for|  515|\n",
      "|      on|  426|\n",
      "|     are|  401|\n",
      "|       I|  387|\n",
      "|       s|  385|\n",
      "|      be|  358|\n",
      "|     can|  355|\n",
      "|business|  350|\n",
      "|    have|  311|\n",
      "+--------+-----+\n",
      "only showing top 20 rows\n",
      "\n"
     ]
    }
   ],
   "source": [
    "import org.apache.spark.sql.functions._\n",
    "\n",
    "dataSet.groupBy(\"value\").count().orderBy(desc(\"count\")).show()"
   ]
  },
  {
   "cell_type": "code",
   "execution_count": null,
   "metadata": {},
   "outputs": [],
   "source": []
  }
 ],
 "metadata": {
  "kernelspec": {
   "display_name": "Apache Toree - Scala",
   "language": "scala",
   "name": "apache_toree_scala"
  },
  "language_info": {
   "codemirror_mode": "text/x-scala",
   "file_extension": ".scala",
   "mimetype": "text/x-scala",
   "name": "scala",
   "pygments_lexer": "scala",
   "version": "2.11.8"
  }
 },
 "nbformat": 4,
 "nbformat_minor": 2
}
