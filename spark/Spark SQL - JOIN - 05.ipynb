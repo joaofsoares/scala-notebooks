{
 "cells": [
  {
   "cell_type": "code",
   "execution_count": 1,
   "metadata": {},
   "outputs": [
    {
     "data": {
      "text/plain": [
       "spark = org.apache.spark.sql.SparkSession@557b1d8e\n"
      ]
     },
     "metadata": {},
     "output_type": "display_data"
    },
    {
     "data": {
      "text/html": [
       "<ul>\n",
       "<li><a href=\"Some(http://192.168.0.124:4040)\" target=\"new_tab\">Spark UI: local-1536778817591</a></li>\n",
       "</ul>"
      ],
      "text/plain": [
       "Spark local-1536778817591: Some(http://192.168.0.124:4040)"
      ]
     },
     "execution_count": 1,
     "metadata": {},
     "output_type": "execute_result"
    }
   ],
   "source": [
    "val spark = SparkSession.builder.appName(\"Join\").getOrCreate()"
   ]
  },
  {
   "cell_type": "code",
   "execution_count": 5,
   "metadata": {},
   "outputs": [
    {
     "data": {
      "text/plain": [
       "defined class Employee\n",
       "employeeDataSet = [depart: bigint, name: string ... 1 more field]\n"
      ]
     },
     "metadata": {},
     "output_type": "display_data"
    },
    {
     "data": {
      "text/plain": [
       "lastException: Throwable = null\n"
      ]
     },
     "metadata": {},
     "output_type": "display_data"
    },
    {
     "data": {
      "text/plain": [
       "[depart: bigint, name: string ... 1 more field]"
      ]
     },
     "execution_count": 5,
     "metadata": {},
     "output_type": "execute_result"
    }
   ],
   "source": [
    "import spark.implicits._\n",
    "case class Employee(name: String, role: String, depart: Long)\n",
    "val employeeDataSet = spark.read.option(\"inferSchema\", \"true\").json(\"files/employee.json\").as[Employee]"
   ]
  },
  {
   "cell_type": "code",
   "execution_count": 8,
   "metadata": {},
   "outputs": [
    {
     "data": {
      "text/plain": [
       "defined class Department\n",
       "departmentDataSet = [id: bigint, name: string]\n"
      ]
     },
     "metadata": {},
     "output_type": "display_data"
    },
    {
     "data": {
      "text/plain": [
       "[id: bigint, name: string]"
      ]
     },
     "execution_count": 8,
     "metadata": {},
     "output_type": "execute_result"
    }
   ],
   "source": [
    "import spark.implicits._\n",
    "case class Department(id: Long, name: String)\n",
    "val departmentDataSet = spark.read.option(\"inferSchema\", \"true\").json(\"files/department.json\").as[Department]"
   ]
  },
  {
   "cell_type": "code",
   "execution_count": 33,
   "metadata": {},
   "outputs": [
    {
     "name": "stdout",
     "output_type": "stream",
     "text": [
      "+------+----------+\n",
      "|  name|      name|\n",
      "+------+----------+\n",
      "|  Mark|        HR|\n",
      "|  John|        HR|\n",
      "|  Jane|        HR|\n",
      "|Victor|Technology|\n",
      "|   Ana|Technology|\n",
      "+------+----------+\n",
      "\n"
     ]
    }
   ],
   "source": [
    "employeeDataSet.joinWith(departmentDataSet, employeeDataSet(\"depart\") === departmentDataSet(\"id\"))\n",
    "    .select(\"_1.name\", \"_2.name\")\n",
    "    .orderBy(\"_2.name\")\n",
    "    .show()"
   ]
  },
  {
   "cell_type": "code",
   "execution_count": null,
   "metadata": {},
   "outputs": [],
   "source": []
  }
 ],
 "metadata": {
  "kernelspec": {
   "display_name": "Apache Toree - Scala",
   "language": "scala",
   "name": "apache_toree_scala"
  },
  "language_info": {
   "codemirror_mode": "text/x-scala",
   "file_extension": ".scala",
   "mimetype": "text/x-scala",
   "name": "scala",
   "pygments_lexer": "scala",
   "version": "2.11.8"
  }
 },
 "nbformat": 4,
 "nbformat_minor": 2
}
