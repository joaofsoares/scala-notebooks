{
 "cells": [
  {
   "cell_type": "code",
   "execution_count": 1,
   "metadata": {
    "scrolled": true
   },
   "outputs": [
    {
     "data": {
      "text/plain": [
       "spark = org.apache.spark.sql.SparkSession@5a0cf672\n"
      ]
     },
     "metadata": {},
     "output_type": "display_data"
    },
    {
     "data": {
      "text/html": [
       "<ul>\n",
       "<li><a href=\"Some(http://192.168.0.124:4040)\" target=\"new_tab\">Spark UI: local-1536495648370</a></li>\n",
       "</ul>"
      ],
      "text/plain": [
       "Spark local-1536495648370: Some(http://192.168.0.124:4040)"
      ]
     },
     "execution_count": 1,
     "metadata": {},
     "output_type": "execute_result"
    }
   ],
   "source": [
    "val spark = SparkSession.builder.appName(\"SparkSQL\").getOrCreate()"
   ]
  },
  {
   "cell_type": "code",
   "execution_count": 2,
   "metadata": {},
   "outputs": [
    {
     "data": {
      "text/plain": [
       "dataFrame = [ID: int, name: string ... 2 more fields]\n"
      ]
     },
     "metadata": {},
     "output_type": "display_data"
    },
    {
     "data": {
      "text/plain": [
       "[ID: int, name: string ... 2 more fields]"
      ]
     },
     "execution_count": 2,
     "metadata": {},
     "output_type": "execute_result"
    }
   ],
   "source": [
    "val dataFrame = spark.read.option(\"inferSchema\", \"true\").option(\"header\", \"true\").csv(\"files/fakefriends.csv\")"
   ]
  },
  {
   "cell_type": "code",
   "execution_count": 63,
   "metadata": {},
   "outputs": [
    {
     "data": {
      "text/plain": [
       "dataSet = [ID: int, name: string ... 2 more fields]\n"
      ]
     },
     "metadata": {},
     "output_type": "display_data"
    },
    {
     "data": {
      "text/plain": [
       "[ID: int, name: string ... 2 more fields]"
      ]
     },
     "execution_count": 63,
     "metadata": {},
     "output_type": "execute_result"
    }
   ],
   "source": [
    "import spark.implicits._\n",
    "val dataSet = namedDataFrame.as[Person].cache()"
   ]
  },
  {
   "cell_type": "code",
   "execution_count": 65,
   "metadata": {},
   "outputs": [
    {
     "name": "stdout",
     "output_type": "stream",
     "text": [
      "+--------+\n",
      "|    name|\n",
      "+--------+\n",
      "|    null|\n",
      "|    Will|\n",
      "|Jean-Luc|\n",
      "|    Hugh|\n",
      "|  Deanna|\n",
      "|   Quark|\n",
      "|  Weyoun|\n",
      "|  Gowron|\n",
      "|    Will|\n",
      "|  Jadzia|\n",
      "|    Hugh|\n",
      "|     Odo|\n",
      "|     Ben|\n",
      "|   Keiko|\n",
      "|Jean-Luc|\n",
      "|    Hugh|\n",
      "|     Rom|\n",
      "|  Weyoun|\n",
      "|     Odo|\n",
      "|Jean-Luc|\n",
      "+--------+\n",
      "only showing top 20 rows\n",
      "\n"
     ]
    }
   ],
   "source": [
    "dataSet.select(\"name\").show()"
   ]
  },
  {
   "cell_type": "code",
   "execution_count": 66,
   "metadata": {},
   "outputs": [
    {
     "name": "stdout",
     "output_type": "stream",
     "text": [
      "+---+-------+---+----------+\n",
      "| ID|   name|age|numFriends|\n",
      "+---+-------+---+----------+\n",
      "| 21|  Miles| 19|       268|\n",
      "| 52|Beverly| 19|       269|\n",
      "| 54|  Brunt| 19|         5|\n",
      "|106|Beverly| 18|       499|\n",
      "|115|  Dukat| 18|       397|\n",
      "|133|  Quark| 19|       265|\n",
      "|136|   Will| 19|       335|\n",
      "|225|   Elim| 19|       106|\n",
      "|304|   Will| 19|       404|\n",
      "|341|   Data| 18|       326|\n",
      "|366|  Keiko| 19|       119|\n",
      "|373|  Quark| 19|       272|\n",
      "|377|Beverly| 18|       418|\n",
      "|404| Kasidy| 18|        24|\n",
      "|409|    Nog| 19|       267|\n",
      "|439|   Data| 18|       417|\n",
      "|444|  Keiko| 18|       472|\n",
      "|492|  Dukat| 19|        36|\n",
      "|494| Kasidy| 18|       194|\n",
      "+---+-------+---+----------+\n",
      "\n"
     ]
    }
   ],
   "source": [
    "dataSet.filter(dataSet(\"age\") >= 13 && dataSet(\"age\") <= 19).show()"
   ]
  },
  {
   "cell_type": "code",
   "execution_count": 67,
   "metadata": {},
   "outputs": [
    {
     "name": "stdout",
     "output_type": "stream",
     "text": [
      "+----+-----+\n",
      "| age|count|\n",
      "+----+-----+\n",
      "|  31|    8|\n",
      "|  65|    5|\n",
      "|  53|    7|\n",
      "|  34|    6|\n",
      "|  28|   10|\n",
      "|  26|   17|\n",
      "|  27|    8|\n",
      "|  44|   12|\n",
      "|  22|    7|\n",
      "|  47|    9|\n",
      "|null|    1|\n",
      "|  52|   11|\n",
      "|  40|   17|\n",
      "|  20|    5|\n",
      "|  57|   12|\n",
      "|  54|   13|\n",
      "|  48|   10|\n",
      "|  19|   11|\n",
      "|  64|   12|\n",
      "|  41|    9|\n",
      "+----+-----+\n",
      "only showing top 20 rows\n",
      "\n"
     ]
    }
   ],
   "source": [
    "dataSet.groupBy(\"age\").count().show()"
   ]
  },
  {
   "cell_type": "code",
   "execution_count": null,
   "metadata": {},
   "outputs": [],
   "source": []
  }
 ],
 "metadata": {
  "kernelspec": {
   "display_name": "Apache Toree - Scala",
   "language": "scala",
   "name": "apache_toree_scala"
  },
  "language_info": {
   "codemirror_mode": "text/x-scala",
   "file_extension": ".scala",
   "mimetype": "text/x-scala",
   "name": "scala",
   "pygments_lexer": "scala",
   "version": "2.11.8"
  }
 },
 "nbformat": 4,
 "nbformat_minor": 2
}
