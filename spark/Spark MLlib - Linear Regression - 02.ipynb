{
 "cells": [
  {
   "cell_type": "code",
   "execution_count": 72,
   "metadata": {},
   "outputs": [
    {
     "data": {
      "text/plain": [
       "spark = org.apache.spark.sql.SparkSession@6c24eb6a\n"
      ]
     },
     "metadata": {},
     "output_type": "display_data"
    },
    {
     "data": {
      "text/html": [
       "<ul>\n",
       "<li><a href=\"Some(http://192.168.0.124:4040)\" target=\"new_tab\">Spark UI: local-1536610088133</a></li>\n",
       "</ul>"
      ],
      "text/plain": [
       "Spark local-1536610088133: Some(http://192.168.0.124:4040)"
      ]
     },
     "execution_count": 72,
     "metadata": {},
     "output_type": "execute_result"
    }
   ],
   "source": [
    "val spark = SparkSession.builder.appName(\"Regression\").getOrCreate()"
   ]
  },
  {
   "cell_type": "code",
   "execution_count": 73,
   "metadata": {},
   "outputs": [
    {
     "data": {
      "text/plain": [
       "dataFrame = [value: string]\n"
      ]
     },
     "metadata": {},
     "output_type": "display_data"
    },
    {
     "data": {
      "text/plain": [
       "[value: string]"
      ]
     },
     "execution_count": 73,
     "metadata": {},
     "output_type": "execute_result"
    }
   ],
   "source": [
    "val dataFrame = spark.read.option(\"inferSchema\", \"true\").textFile(\"files/regression.txt\")"
   ]
  },
  {
   "cell_type": "code",
   "execution_count": 74,
   "metadata": {},
   "outputs": [
    {
     "data": {
      "text/plain": [
       "defined class Feature\n",
       "dataSet = [label: double, features: vector]\n"
      ]
     },
     "metadata": {},
     "output_type": "display_data"
    },
    {
     "data": {
      "text/plain": [
       "[label: double, features: vector]"
      ]
     },
     "execution_count": 74,
     "metadata": {},
     "output_type": "execute_result"
    }
   ],
   "source": [
    "import spark.implicits._\n",
    "import org.apache.spark.ml.linalg.Vectors\n",
    "import org.apache.spark.ml.linalg.Vector\n",
    "\n",
    "case class Feature(label: Double, features: Vector)\n",
    "\n",
    "val dataSet = dataFrame.select(\"value\").map(_.get(0).toString.split(\",\"))\n",
    "    .map(x => (x(0).toDouble, Vectors.dense(x(1).toDouble)))\n",
    "    .withColumnRenamed(\"_1\", \"label\")\n",
    "    .withColumnRenamed(\"_2\", \"features\")\n",
    "    .as[Feature]"
   ]
  },
  {
   "cell_type": "code",
   "execution_count": 75,
   "metadata": {},
   "outputs": [
    {
     "data": {
      "text/plain": [
       "trainningTuple = Array([label: double, features: vector], [label: double, features: vector])\n",
       "trainningData = [label: double, features: vector]\n",
       "testData = [label: double, features: vector]\n"
      ]
     },
     "metadata": {},
     "output_type": "display_data"
    },
    {
     "data": {
      "text/plain": [
       "[label: double, features: vector]"
      ]
     },
     "execution_count": 75,
     "metadata": {},
     "output_type": "execute_result"
    }
   ],
   "source": [
    "val trainningTuple = dataSet.randomSplit(Array(0.5, 0.5))\n",
    "val trainningData = trainningTuple(0)\n",
    "val testData = trainningTuple(1)"
   ]
  },
  {
   "cell_type": "code",
   "execution_count": 76,
   "metadata": {},
   "outputs": [
    {
     "data": {
      "text/plain": [
       "lir = linReg_e610b3462d81\n"
      ]
     },
     "metadata": {},
     "output_type": "display_data"
    },
    {
     "data": {
      "text/plain": [
       "linReg_e610b3462d81"
      ]
     },
     "execution_count": 76,
     "metadata": {},
     "output_type": "execute_result"
    }
   ],
   "source": [
    "import org.apache.spark.ml.regression.LinearRegression\n",
    "\n",
    "val lir = new LinearRegression()\n",
    "    .setRegParam(0.3)\n",
    "    .setElasticNetParam(0.8)\n",
    "    .setMaxIter(100)\n",
    "    .setTol(1E-6)"
   ]
  },
  {
   "cell_type": "code",
   "execution_count": 77,
   "metadata": {},
   "outputs": [
    {
     "data": {
      "text/plain": [
       "model = linReg_e610b3462d81\n"
      ]
     },
     "metadata": {},
     "output_type": "display_data"
    },
    {
     "data": {
      "text/plain": [
       "linReg_e610b3462d81"
      ]
     },
     "execution_count": 77,
     "metadata": {},
     "output_type": "execute_result"
    }
   ],
   "source": [
    "val model = lir.fit(trainningData)"
   ]
  },
  {
   "cell_type": "code",
   "execution_count": 78,
   "metadata": {},
   "outputs": [
    {
     "data": {
      "text/plain": [
       "fullPredictions = [label: double, features: vector ... 1 more field]\n"
      ]
     },
     "metadata": {},
     "output_type": "display_data"
    },
    {
     "data": {
      "text/plain": [
       "[label: double, features: vector ... 1 more field]"
      ]
     },
     "execution_count": 78,
     "metadata": {},
     "output_type": "execute_result"
    }
   ],
   "source": [
    "val fullPredictions = model.transform(testData).cache()"
   ]
  },
  {
   "cell_type": "code",
   "execution_count": 79,
   "metadata": {},
   "outputs": [
    {
     "name": "stdout",
     "output_type": "stream",
     "text": [
      "+-------------------+-----+\n",
      "|         prediction|label|\n",
      "+-------------------+-----+\n",
      "|-2.3407968604844336|-3.23|\n",
      "|-2.0752517683193665|-2.89|\n",
      "|-1.8527680424513369| -2.6|\n",
      "| -1.745114626708742|-2.36|\n",
      "| -1.888652514365535|-2.36|\n",
      "|-1.6876994716460247|-2.29|\n",
      "|-1.5728691615205903|-2.17|\n",
      "|-1.5011002176921935|-2.14|\n",
      "|-1.3647392244182401|-2.12|\n",
      "|-1.4149774850981178|-2.09|\n",
      "|-1.4652157457779953|-2.07|\n",
      "|-1.4006236963324383|-2.06|\n",
      "|-1.3145009637383627|-1.91|\n",
      "|-1.3360316468868816|-1.91|\n",
      "|-1.3575623300354005|-1.88|\n",
      "|-1.2068475479957677|-1.83|\n",
      "|-1.1494323929330506|-1.69|\n",
      "|-1.1279017097845314|-1.68|\n",
      "|-1.2283782311442866|-1.68|\n",
      "|-1.2570858086756453|-1.68|\n",
      "+-------------------+-----+\n",
      "only showing top 20 rows\n",
      "\n"
     ]
    }
   ],
   "source": [
    "fullPredictions.select(\"prediction\", \"label\").show()"
   ]
  },
  {
   "cell_type": "code",
   "execution_count": null,
   "metadata": {},
   "outputs": [],
   "source": []
  }
 ],
 "metadata": {
  "kernelspec": {
   "display_name": "Apache Toree - Scala",
   "language": "scala",
   "name": "apache_toree_scala"
  },
  "language_info": {
   "codemirror_mode": "text/x-scala",
   "file_extension": ".scala",
   "mimetype": "text/x-scala",
   "name": "scala",
   "pygments_lexer": "scala",
   "version": "2.11.8"
  }
 },
 "nbformat": 4,
 "nbformat_minor": 2
}
