{
 "cells": [
  {
   "cell_type": "code",
   "execution_count": 3,
   "metadata": {},
   "outputs": [],
   "source": [
    "import findspark\n",
    "findspark.init()"
   ]
  },
  {
   "cell_type": "code",
   "execution_count": 4,
   "metadata": {},
   "outputs": [],
   "source": [
    "from pyspark.sql import SparkSession"
   ]
  },
  {
   "cell_type": "code",
   "execution_count": 6,
   "metadata": {},
   "outputs": [],
   "source": [
    "spark = SparkSession.builder.appName(\"GIS Importer\").master(\"local[*]\").getOrCreate()"
   ]
  },
  {
   "cell_type": "code",
   "execution_count": 44,
   "metadata": {},
   "outputs": [],
   "source": [
    "df = spark.read.option(\"inferSchema\", \"true\").option(\"header\", \"true\").json(\"files/gis_san_francisco.json\").cache()"
   ]
  },
  {
   "cell_type": "code",
   "execution_count": 45,
   "metadata": {},
   "outputs": [
    {
     "data": {
      "text/plain": [
       "DataFrame[geometry: struct<coordinates:array<array<array<double>>>,type:string>, properties: struct<BLKLOT:string,BLOCK_NUM:string,FROM_ST:string,LOT_NUM:string,MAPBLKLOT:string,ODD_EVEN:string,STREET:string,ST_TYPE:string,TO_ST:string>, type: string]"
      ]
     },
     "execution_count": 45,
     "metadata": {},
     "output_type": "execute_result"
    }
   ],
   "source": [
    "df"
   ]
  },
  {
   "cell_type": "code",
   "execution_count": 130,
   "metadata": {},
   "outputs": [],
   "source": [
    "df_geom = df.select(df.geometry.coordinates[0],\n",
    "                    df.geometry.type,\n",
    "                    df.properties.BLKLOT, df.properties.BLOCK_NUM,\n",
    "                    df.properties.FROM_ST, df.properties.LOT_NUM,\n",
    "                    df.properties.MAPBLKLOT, df.properties.ODD_EVEN,\n",
    "                    df.properties.STREET, df.properties.ST_TYPE,\n",
    "                    df.properties.TO_ST,\n",
    "                    df.type).toDF(\"GEOM\", \"TYPE\",\n",
    "                                  \"BLK_LOT\", \"BLK_NUM\", \"FROM_ST\",\n",
    "                                  \"LOT_NUM\", \"MAP_BLK_LOT\", \"ODD_EVEN\", \"STREET\",\n",
    "                                  \"ST_TYPE\", \"TO_ST\", \"TYPE\")"
   ]
  },
  {
   "cell_type": "code",
   "execution_count": 131,
   "metadata": {},
   "outputs": [
    {
     "data": {
      "text/plain": [
       "DataFrame[GEOM: array<array<double>>, TYPE: string, BLK_LOT: string, BLK_NUM: string, FROM_ST: string, LOT_NUM: string, MAP_BLK_LOT: string, ODD_EVEN: string, STREET: string, ST_TYPE: string, TO_ST: string, TYPE: string]"
      ]
     },
     "execution_count": 131,
     "metadata": {},
     "output_type": "execute_result"
    }
   ],
   "source": [
    "df_geom"
   ]
  },
  {
   "cell_type": "code",
   "execution_count": 132,
   "metadata": {},
   "outputs": [
    {
     "name": "stdout",
     "output_type": "stream",
     "text": [
      "+--------------------+\n",
      "|                GEOM|\n",
      "+--------------------+\n",
      "|[[-122.4220035282...|\n",
      "|[[-122.4208259393...|\n",
      "|[[-122.4157012046...|\n",
      "|[[-122.4173466709...|\n",
      "|[[-122.4189746504...|\n",
      "|[[-122.4206425214...|\n",
      "|[[-122.4198317725...|\n",
      "|[[-122.4199116019...|\n",
      "|[[-122.4188096844...|\n",
      "|[[-122.4181147282...|\n",
      "|[[-122.4162940337...|\n",
      "|[[-122.4159112771...|\n",
      "|[[-122.4160821730...|\n",
      "|[[-122.4171622165...|\n",
      "|[[-122.4172354309...|\n",
      "|[[-122.4169618184...|\n",
      "|[[-122.4167224072...|\n",
      "|[[-122.4165513987...|\n",
      "|[[-122.4143384396...|\n",
      "|[[-122.4146190003...|\n",
      "+--------------------+\n",
      "only showing top 20 rows\n",
      "\n"
     ]
    }
   ],
   "source": [
    "df_geom.select(\"GEOM\").show()"
   ]
  },
  {
   "cell_type": "code",
   "execution_count": null,
   "metadata": {},
   "outputs": [],
   "source": []
  }
 ],
 "metadata": {
  "kernelspec": {
   "display_name": "Python 3",
   "language": "python",
   "name": "python3"
  },
  "language_info": {
   "codemirror_mode": {
    "name": "ipython",
    "version": 3
   },
   "file_extension": ".py",
   "mimetype": "text/x-python",
   "name": "python",
   "nbconvert_exporter": "python",
   "pygments_lexer": "ipython3",
   "version": "3.7.3"
  }
 },
 "nbformat": 4,
 "nbformat_minor": 2
}
