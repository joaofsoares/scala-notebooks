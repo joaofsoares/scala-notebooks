{
 "cells": [
  {
   "cell_type": "code",
   "execution_count": 69,
   "metadata": {},
   "outputs": [],
   "source": [
    "from pyspark.sql import SparkSession"
   ]
  },
  {
   "cell_type": "code",
   "execution_count": 70,
   "metadata": {},
   "outputs": [],
   "source": [
    "spark = SparkSession.builder.appName(\"GIS Importer\").master(\"local[*]\").getOrCreate()"
   ]
  },
  {
   "cell_type": "code",
   "execution_count": 71,
   "metadata": {},
   "outputs": [],
   "source": [
    "df = spark.read.option(\"inferSchema\", \"true\").option(\"header\", \"true\").json(\"files/gis_san_francisco.json\").cache()"
   ]
  },
  {
   "cell_type": "code",
   "execution_count": 72,
   "metadata": {},
   "outputs": [
    {
     "data": {
      "text/plain": [
       "DataFrame[geometry: struct<coordinates:array<array<array<double>>>,type:string>, properties: struct<BLKLOT:string,BLOCK_NUM:string,FROM_ST:string,LOT_NUM:string,MAPBLKLOT:string,ODD_EVEN:string,STREET:string,ST_TYPE:string,TO_ST:string>, type: string]"
      ]
     },
     "execution_count": 72,
     "metadata": {},
     "output_type": "execute_result"
    }
   ],
   "source": [
    "df"
   ]
  },
  {
   "cell_type": "code",
   "execution_count": 178,
   "metadata": {},
   "outputs": [],
   "source": [
    "df_geom = df.select(df.type,\n",
    "                    df.properties.BLKLOT, df.properties.BLOCK_NUM,\n",
    "                    df.properties.FROM_ST, df.properties.LOT_NUM,\n",
    "                    df.properties.MAPBLKLOT, df.properties.ODD_EVEN,\n",
    "                    df.properties.STREET, df.properties.ST_TYPE,\n",
    "                    df.properties.TO_ST,\n",
    "                    df.geometry.type,\n",
    "                    df.geometry.coordinates[0]\n",
    "                    ).toDF(\"TYPE\",\n",
    "                           \"BLK_LOT\", \"BLK_NUM\", \"FROM_ST\",\n",
    "                           \"LOT_NUM\", \"MAP_BLK_LOT\", \"ODD_EVEN\", \"STREET\",\n",
    "                           \"ST_TYPE\", \"TO_ST\",\n",
    "                           \"GEOM_TYPE\", \"GEOM\")"
   ]
  },
  {
   "cell_type": "code",
   "execution_count": 190,
   "metadata": {},
   "outputs": [
    {
     "name": "stdout",
     "output_type": "stream",
     "text": [
      "+-------+--------+-------+-------+-------+-----------+--------+---------+-------+-----+---------+--------------------+\n",
      "|   TYPE| BLK_LOT|BLK_NUM|FROM_ST|LOT_NUM|MAP_BLK_LOT|ODD_EVEN|   STREET|ST_TYPE|TO_ST|GEOM_TYPE|                GEOM|\n",
      "+-------+--------+-------+-------+-------+-----------+--------+---------+-------+-----+---------+--------------------+\n",
      "|Feature| 0001001|   0001|      0|    001|    0001001|       E|  UNKNOWN|   null|    0|  Polygon|[[-122.4220035282...|\n",
      "|Feature| 0002001|   0002|      0|    001|    0002001|       E|  UNKNOWN|   null|    0|  Polygon|[[-122.4208259393...|\n",
      "|Feature| 0004002|   0004|      0|    002|    0004002|       E|  UNKNOWN|   null|    0|  Polygon|[[-122.4157012046...|\n",
      "|Feature| 0005001|   0005|    206|    001|    0005001|       E|JEFFERSON|     ST|  286|  Polygon|[[-122.4173466709...|\n",
      "|Feature| 0006001|   0006|    350|    001|    0006001|       E|JEFFERSON|     ST|  366|  Polygon|[[-122.4189746504...|\n",
      "|Feature| 0007001|   0007|   2936|    001|    0007001|       E|     HYDE|     ST| 2936|  Polygon|[[-122.4206425214...|\n",
      "|Feature| 0010001|   0010|    600|    001|    0010001|       E|    BEACH|     ST|  600|  Polygon|[[-122.4198317725...|\n",
      "|Feature| 0010002|   0010|    680|    002|    0010002|       E|    BEACH|     ST|  680|  Polygon|[[-122.4199116019...|\n",
      "|Feature| 0011007|   0011|    580|    007|    0011007|       E|    BEACH|     ST|  580|  Polygon|[[-122.4188096844...|\n",
      "|Feature| 0011008|   0011|    500|    008|    0011008|       E|    BEACH|     ST|  550|  Polygon|[[-122.4181147282...|\n",
      "|Feature| 0012001|   0012|    211|    001|    0012001|       O|JEFFERSON|     ST|  229|  Polygon|[[-122.4162940337...|\n",
      "|Feature| 0012002|   0012|   2701|    002|    0012002|       O|   TAYLOR|     ST| 2739|  Polygon|[[-122.4159112771...|\n",
      "|Feature| 0012003|   0012|    418|    003|    0012003|       E|    BEACH|     ST|  420|  Polygon|[[-122.4160821730...|\n",
      "|Feature|0012003A|   0012|    430|   003A|   0012003A|       E|    BEACH|     ST|  498|  Polygon|[[-122.4171622165...|\n",
      "|Feature| 0012005|   0012|    211|    005|    0012005|       O|JEFFERSON|     ST|  295|  Polygon|[[-122.4172354309...|\n",
      "|Feature| 0012006|   0012|    273|    006|    0012006|       O|JEFFERSON|     ST|  275|  Polygon|[[-122.4169618184...|\n",
      "|Feature| 0012007|   0012|    245|    007|    0012007|       O|JEFFERSON|     ST|  281|  Polygon|[[-122.4167224072...|\n",
      "|Feature|0012007A|   0012|    235|   007A|   0012007A|       O|JEFFERSON|     ST|  245|  Polygon|[[-122.4165513987...|\n",
      "|Feature| 0013001|   0013|    101|    001|    0013001|       O|JEFFERSON|     ST|  101|  Polygon|[[-122.4143384396...|\n",
      "|Feature| 0013004|   0013|    350|    004|    0013004|       E|    BEACH|     ST|  350|  Polygon|[[-122.4146190003...|\n",
      "+-------+--------+-------+-------+-------+-----------+--------+---------+-------+-----+---------+--------------------+\n",
      "only showing top 20 rows\n",
      "\n"
     ]
    }
   ],
   "source": [
    "df_geom.show()"
   ]
  }
 ],
 "metadata": {
  "kernelspec": {
   "display_name": "Python 3",
   "language": "python",
   "name": "python3"
  },
  "language_info": {
   "codemirror_mode": {
    "name": "ipython",
    "version": 3
   },
   "file_extension": ".py",
   "mimetype": "text/x-python",
   "name": "python",
   "nbconvert_exporter": "python",
   "pygments_lexer": "ipython3",
   "version": "3.7.3"
  }
 },
 "nbformat": 4,
 "nbformat_minor": 2
}
