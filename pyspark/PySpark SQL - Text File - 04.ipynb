{
 "cells": [
  {
   "cell_type": "code",
   "execution_count": 1,
   "metadata": {},
   "outputs": [],
   "source": [
    "import findspark\n",
    "findspark.init()\n",
    "from pyspark.sql import SparkSession"
   ]
  },
  {
   "cell_type": "code",
   "execution_count": 2,
   "metadata": {},
   "outputs": [],
   "source": [
    "spark = SparkSession.builder.appName(\"Book\").getOrCreate()"
   ]
  },
  {
   "cell_type": "code",
   "execution_count": 3,
   "metadata": {},
   "outputs": [],
   "source": [
    "df = spark.read.option(\"inferSchema\", \"true\").format(\"text\").load(\"files/book.txt\")"
   ]
  },
  {
   "cell_type": "code",
   "execution_count": 4,
   "metadata": {},
   "outputs": [],
   "source": [
    "def is_non_empty(s: str) -> bool:\n",
    "    return True if s else False\n",
    "\n",
    "def clean_str(s: str) -> str:\n",
    "    return \"\".join(filter(lambda c: c.isalnum(), s))"
   ]
  },
  {
   "cell_type": "code",
   "execution_count": 5,
   "metadata": {},
   "outputs": [],
   "source": [
    "import re\n",
    "m_df = df.rdd.flatMap(lambda row : re.split(\"\\W+\", row[0])).map(lambda w: clean_str(w)).filter(lambda w: is_non_empty(w)).map(lambda w: (w, 1)).toDF([\"word\", \"count\"]).cache()"
   ]
  },
  {
   "cell_type": "code",
   "execution_count": 6,
   "metadata": {},
   "outputs": [
    {
     "name": "stdout",
     "output_type": "stream",
     "text": [
      "+--------+-----+\n",
      "|    word|count|\n",
      "+--------+-----+\n",
      "|      to| 1816|\n",
      "|     you| 1690|\n",
      "|    your| 1340|\n",
      "|     the| 1178|\n",
      "|       a| 1149|\n",
      "|      of|  951|\n",
      "|     and|  910|\n",
      "|    that|  705|\n",
      "|      in|  574|\n",
      "|      it|  548|\n",
      "|      is|  542|\n",
      "|     for|  515|\n",
      "|      on|  426|\n",
      "|     are|  401|\n",
      "|       I|  387|\n",
      "|       s|  385|\n",
      "|      be|  358|\n",
      "|     can|  355|\n",
      "|business|  350|\n",
      "|    have|  311|\n",
      "+--------+-----+\n",
      "only showing top 20 rows\n",
      "\n"
     ]
    }
   ],
   "source": [
    "from pyspark.sql.functions import desc\n",
    "\n",
    "m_df.groupBy(\"word\").count().orderBy(desc(\"count\")).show()"
   ]
  },
  {
   "cell_type": "code",
   "execution_count": null,
   "metadata": {},
   "outputs": [],
   "source": []
  }
 ],
 "metadata": {
  "kernelspec": {
   "display_name": "Python 3",
   "language": "python",
   "name": "python3"
  },
  "language_info": {
   "codemirror_mode": {
    "name": "ipython",
    "version": 3
   },
   "file_extension": ".py",
   "mimetype": "text/x-python",
   "name": "python",
   "nbconvert_exporter": "python",
   "pygments_lexer": "ipython3",
   "version": "3.7.0"
  }
 },
 "nbformat": 4,
 "nbformat_minor": 2
}
