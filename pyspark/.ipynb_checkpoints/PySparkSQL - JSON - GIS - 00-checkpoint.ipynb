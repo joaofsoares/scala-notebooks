{
 "cells": [
  {
   "cell_type": "code",
   "execution_count": 69,
   "metadata": {},
   "outputs": [],
   "source": [
    "from pyspark.sql import SparkSession"
   ]
  },
  {
   "cell_type": "code",
   "execution_count": 70,
   "metadata": {},
   "outputs": [],
   "source": [
    "spark = SparkSession.builder.appName(\"GIS Importer\").master(\"local[*]\").getOrCreate()"
   ]
  },
  {
   "cell_type": "code",
   "execution_count": 71,
   "metadata": {},
   "outputs": [],
   "source": [
    "df = spark.read.option(\"inferSchema\", \"true\").option(\"header\", \"true\").json(\"files/gis_san_francisco.json\").cache()"
   ]
  },
  {
   "cell_type": "code",
   "execution_count": 72,
   "metadata": {},
   "outputs": [
    {
     "data": {
      "text/plain": [
       "DataFrame[geometry: struct<coordinates:array<array<array<double>>>,type:string>, properties: struct<BLKLOT:string,BLOCK_NUM:string,FROM_ST:string,LOT_NUM:string,MAPBLKLOT:string,ODD_EVEN:string,STREET:string,ST_TYPE:string,TO_ST:string>, type: string]"
      ]
     },
     "execution_count": 72,
     "metadata": {},
     "output_type": "execute_result"
    }
   ],
   "source": [
    "df"
   ]
  },
  {
   "cell_type": "code",
   "execution_count": 178,
   "metadata": {},
   "outputs": [],
   "source": [
    "df_geom = df.select(df.type,\n",
    "                    df.properties.BLKLOT, df.properties.BLOCK_NUM,\n",
    "                    df.properties.FROM_ST, df.properties.LOT_NUM,\n",
    "                    df.properties.MAPBLKLOT, df.properties.ODD_EVEN,\n",
    "                    df.properties.STREET, df.properties.ST_TYPE,\n",
    "                    df.properties.TO_ST,\n",
    "                    df.geometry.type,\n",
    "                    df.geometry.coordinates[0]\n",
    "                    ).toDF(\"TYPE\",\n",
    "                           \"BLK_LOT\", \"BLK_NUM\", \"FROM_ST\",\n",
    "                           \"LOT_NUM\", \"MAP_BLK_LOT\", \"ODD_EVEN\", \"STREET\",\n",
    "                           \"ST_TYPE\", \"TO_ST\",\n",
    "                           \"GEOM_TYPE\", \"GEOM\")"
   ]
  },
  {
   "cell_type": "code",
   "execution_count": 182,
   "metadata": {},
   "outputs": [
    {
     "data": {
      "text/plain": [
       "Column<b'GEOM'>"
      ]
     },
     "execution_count": 182,
     "metadata": {},
     "output_type": "execute_result"
    }
   ],
   "source": [
    "df_geom.select(\"GEOM\")[0]"
   ]
  }
 ],
 "metadata": {
  "kernelspec": {
   "display_name": "Python 3",
   "language": "python",
   "name": "python3"
  },
  "language_info": {
   "codemirror_mode": {
    "name": "ipython",
    "version": 3
   },
   "file_extension": ".py",
   "mimetype": "text/x-python",
   "name": "python",
   "nbconvert_exporter": "python",
   "pygments_lexer": "ipython3",
   "version": "3.7.3"
  }
 },
 "nbformat": 4,
 "nbformat_minor": 2
}
