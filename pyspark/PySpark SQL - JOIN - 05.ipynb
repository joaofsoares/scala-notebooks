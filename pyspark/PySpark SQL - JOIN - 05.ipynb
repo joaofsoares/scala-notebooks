{
 "cells": [
  {
   "cell_type": "code",
   "execution_count": 1,
   "metadata": {},
   "outputs": [],
   "source": [
    "import findspark\n",
    "findspark.init()\n",
    "from pyspark.sql import SparkSession"
   ]
  },
  {
   "cell_type": "code",
   "execution_count": 2,
   "metadata": {},
   "outputs": [],
   "source": [
    "spark = SparkSession.builder.appName(\"Join\").getOrCreate()"
   ]
  },
  {
   "cell_type": "code",
   "execution_count": 8,
   "metadata": {},
   "outputs": [],
   "source": [
    "employee_df = spark.read.option(\"inferSchema\", \"true\").option(\"header\", \"true\").json(\"files/employee.json\")\n",
    "department_df = spark.read.option(\"inferSchema\", \"true\").option(\"header\", \"true\").json(\"files/department.json\")"
   ]
  },
  {
   "cell_type": "code",
   "execution_count": 21,
   "metadata": {},
   "outputs": [
    {
     "name": "stdout",
     "output_type": "stream",
     "text": [
      "+------+------+----------+\n",
      "|depart|  name|      role|\n",
      "+------+------+----------+\n",
      "|     1|  Jane| recruiter|\n",
      "|     2|Victor|  designer|\n",
      "|     1|  John| recruiter|\n",
      "|     2|   Ana|programmer|\n",
      "|     1|  Mark| recruiter|\n",
      "+------+------+----------+\n",
      "\n"
     ]
    }
   ],
   "source": [
    "employee_df.show()"
   ]
  },
  {
   "cell_type": "code",
   "execution_count": 22,
   "metadata": {},
   "outputs": [
    {
     "name": "stdout",
     "output_type": "stream",
     "text": [
      "+---+----------+\n",
      "| id|      name|\n",
      "+---+----------+\n",
      "|  1|        HR|\n",
      "|  2|Technology|\n",
      "+---+----------+\n",
      "\n"
     ]
    }
   ],
   "source": [
    "department_df.show()"
   ]
  },
  {
   "cell_type": "code",
   "execution_count": 36,
   "metadata": {},
   "outputs": [
    {
     "name": "stdout",
     "output_type": "stream",
     "text": [
      "+--------+----------+\n",
      "|emp_name|  dep_name|\n",
      "+--------+----------+\n",
      "|    Jane|        HR|\n",
      "|  Victor|Technology|\n",
      "|    John|        HR|\n",
      "|     Ana|Technology|\n",
      "|    Mark|        HR|\n",
      "+--------+----------+\n",
      "\n"
     ]
    }
   ],
   "source": [
    "columns = [\"emp_name\", \"dep_name\"]\n",
    "employee_df.join(department_df, employee_df.depart == department_df.id).select(employee_df.name, department_df.name).toDF(*columns).show()"
   ]
  },
  {
   "cell_type": "code",
   "execution_count": null,
   "metadata": {},
   "outputs": [],
   "source": []
  }
 ],
 "metadata": {
  "kernelspec": {
   "display_name": "Python 3",
   "language": "python",
   "name": "python3"
  },
  "language_info": {
   "codemirror_mode": {
    "name": "ipython",
    "version": 3
   },
   "file_extension": ".py",
   "mimetype": "text/x-python",
   "name": "python",
   "nbconvert_exporter": "python",
   "pygments_lexer": "ipython3",
   "version": "3.7.0"
  }
 },
 "nbformat": 4,
 "nbformat_minor": 2
}
